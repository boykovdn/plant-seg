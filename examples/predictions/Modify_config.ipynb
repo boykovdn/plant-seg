{
 "cells": [
  {
   "cell_type": "code",
   "execution_count": 1,
   "metadata": {},
   "outputs": [],
   "source": [
    "import glob\n",
    "import yaml"
   ]
  },
  {
   "cell_type": "code",
   "execution_count": 3,
   "metadata": {},
   "outputs": [
    {
     "data": {
      "text/plain": [
       "[]"
      ]
     },
     "execution_count": 3,
     "metadata": {},
     "output_type": "execute_result"
    }
   ],
   "source": [
    "paths = glob.glob(\"./Generic/*yaml\")\n",
    "paths"
   ]
  },
  {
   "cell_type": "code",
   "execution_count": null,
   "metadata": {},
   "outputs": [],
   "source": [
    "gasp = {\"name\": \"GASP\",\n",
    "        \"state\": True,\n",
    "        \"save_directory\": \"GASP\",\n",
    "        \"gasp_linkage_criteria\": 'average',\n",
    "        \"gasp_beta_bias\": 0.6,\n",
    "        \"run_ws\": True,\n",
    "        \"ws_threshold\": 0.6,\n",
    "        \"ws_minsize\": 50,\n",
    "        \"ws_sigma\": 1.0,\n",
    "        \"post_minsize\": 50,\n",
    "        \"n_threads\": 6}\n",
    "\n",
    "mtxws = {\"name\": 'MutexWS',\n",
    "         \"state\": True,\n",
    "         \"save_directory\": 'MutexWS',\n",
    "         \"gasp_linkage_criteria\" : 'mutex_watershed',\n",
    "         \"gasp_beta_bias\": 0.6,\n",
    "         \"run_ws\" : True,\n",
    "         \"ws_threshold\" : 0.5,\n",
    "         \"ws_minsize\" : 30,\n",
    "         \"ws_sigma\" : 1.0,\n",
    "         \"post_minsize\": 50,\n",
    "         \"n_threads\": 6}\n",
    "\n",
    "\n",
    "ws = {\"name\": 'DtWatershed',\n",
    "      \"state\": True,\n",
    "      \"save_directory\": 'DtWatershed',\n",
    "      \"run_ws\" : True,\n",
    "      \"ws_threshold\" : 0.6,\n",
    "      \"ws_minsize\" : 50,\n",
    "      \"ws_sigma\" : 0.3,\n",
    "      \"post_minsize\": 50,\n",
    "      \"n_threads\": 6}\n",
    "\n",
    "mc = {\"state\": True,\n",
    "      \"name\": \"MultiCut\",\n",
    "      \"multicut_beta\": 0.5,\n",
    "      \"save_directory\": \"MultiCut\",\n",
    "      \"run_ws\": True,\n",
    "      \"ws_2D\": False,\n",
    "      \"ws_threshold\": 0.5,\n",
    "      \"ws_minsize\": 50,\n",
    "      \"ws_sigma\": 2.0,\n",
    "      \"ws_w_sigma\": 0,\n",
    "      \"post_minsize\": 50,\n",
    "      \"postprocessing\": {\"state\": False,\n",
    "                         \"tiff\": False,\n",
    "                         \"factor\": [1, 1, 1],\n",
    "                         \"order\": 0}}\n",
    "\n",
    "for path in paths:\n",
    "    config = yaml.load(open(path, 'r'), Loader=yaml.FullLoader)\n",
    "    if \"segmentation\" in config:\n",
    "        del config[\"segmentation\"]\n",
    "        config[\"segmentation\"] = mc\n",
    "    \n",
    "    path = \"./MultiCut\" + path[1:]\n",
    "    with open(path, \"w\") as f:\n",
    "        yaml.dump(config, f)"
   ]
  }
 ],
 "metadata": {
  "kernelspec": {
   "display_name": "Python 3",
   "language": "python",
   "name": "python3"
  },
  "language_info": {
   "codemirror_mode": {
    "name": "ipython",
    "version": 3
   },
   "file_extension": ".py",
   "mimetype": "text/x-python",
   "name": "python",
   "nbconvert_exporter": "python",
   "pygments_lexer": "ipython3",
   "version": "3.7.4"
  }
 },
 "nbformat": 4,
 "nbformat_minor": 2
}
